{
 "cells": [
  {
   "cell_type": "code",
   "execution_count": 7,
   "metadata": {
    "collapsed": true
   },
   "outputs": [],
   "source": [
    "import numpy as np"
   ]
  },
  {
   "cell_type": "code",
   "execution_count": 2,
   "metadata": {},
   "outputs": [
    {
     "name": "stdout",
     "output_type": "stream",
     "text": [
      "[[ 0.79313208 -1.24339351  1.43673548]\n",
      " [ 0.78180919  1.30526047  0.21841507]\n",
      " [-0.70750455 -0.64565228  0.2164616 ]\n",
      " [ 1.17473485  0.67588791  0.4162247 ]\n",
      " [-0.32332364 -1.24305439 -1.28615975]\n",
      " [-0.94792133 -1.00650621 -0.3957956 ]\n",
      " [ 1.55084476 -0.37132429 -0.20527103]\n",
      " [-0.11054159  3.37728274 -0.01538769]\n",
      " [-0.17072814  1.66416001 -1.46109923]\n",
      " [-0.21436663  0.71264835 -1.04172265]]\n"
     ]
    }
   ],
   "source": [
    "W = np.random.randn(10, 3) \n",
    "print(W)"
   ]
  },
  {
   "cell_type": "code",
   "execution_count": 4,
   "metadata": {},
   "outputs": [
    {
     "data": {
      "text/plain": [
       "{(0, 1): [2, 3],\n",
       " (1, 2): [3, 4],\n",
       " (2, 3): [4, 5],\n",
       " (3, 4): [5, 6],\n",
       " (4, 5): [6, 7]}"
      ]
     },
     "execution_count": 4,
     "metadata": {},
     "output_type": "execute_result"
    }
   ],
   "source": [
    "results = {}\n",
    "for i in range(5):\n",
    "    results[(i,i+1)] = list((i+2, i+3))\n",
    "results"
   ]
  },
  {
   "cell_type": "code",
   "execution_count": 5,
   "metadata": {},
   "outputs": [
    {
     "data": {
      "text/plain": [
       "[(0, 1), (1, 2), (2, 3), (3, 4), (4, 5)]"
      ]
     },
     "execution_count": 5,
     "metadata": {},
     "output_type": "execute_result"
    }
   ],
   "source": [
    "[x for x in results]"
   ]
  },
  {
   "cell_type": "code",
   "execution_count": 8,
   "metadata": {},
   "outputs": [
    {
     "data": {
      "text/plain": [
       "array([[ 0,  1,  2,  3,  4],\n",
       "       [ 5,  6,  7,  8,  9],\n",
       "       [10, 11, 12, 13, 14]])"
      ]
     },
     "execution_count": 8,
     "metadata": {},
     "output_type": "execute_result"
    }
   ],
   "source": [
    "a = np.arange(15).reshape(3,5)\n",
    "a"
   ]
  },
  {
   "cell_type": "code",
   "execution_count": 9,
   "metadata": {},
   "outputs": [
    {
     "data": {
      "text/plain": [
       "array([[0, 1, 2, 3, 4],\n",
       "       [5, 6, 7, 8, 9]])"
      ]
     },
     "execution_count": 9,
     "metadata": {},
     "output_type": "execute_result"
    }
   ],
   "source": [
    "a[:-1,:]"
   ]
  },
  {
   "cell_type": "code",
   "execution_count": 10,
   "metadata": {},
   "outputs": [
    {
     "data": {
      "text/plain": [
       "array([[ 0,  5, 10],\n",
       "       [ 1,  6, 11],\n",
       "       [ 2,  7, 12],\n",
       "       [ 3,  8, 13],\n",
       "       [ 4,  9, 14]])"
      ]
     },
     "execution_count": 10,
     "metadata": {},
     "output_type": "execute_result"
    }
   ],
   "source": [
    "a.T\n"
   ]
  },
  {
   "cell_type": "code",
   "execution_count": 11,
   "metadata": {},
   "outputs": [
    {
     "data": {
      "text/plain": [
       "array([[[[  0,   1,   2,   3,   4],\n",
       "         [  5,   6,   7,   8,   9],\n",
       "         [ 10,  11,  12,  13,  14],\n",
       "         [ 15,  16,  17,  18,  19]],\n",
       "\n",
       "        [[ 20,  21,  22,  23,  24],\n",
       "         [ 25,  26,  27,  28,  29],\n",
       "         [ 30,  31,  32,  33,  34],\n",
       "         [ 35,  36,  37,  38,  39]],\n",
       "\n",
       "        [[ 40,  41,  42,  43,  44],\n",
       "         [ 45,  46,  47,  48,  49],\n",
       "         [ 50,  51,  52,  53,  54],\n",
       "         [ 55,  56,  57,  58,  59]]],\n",
       "\n",
       "\n",
       "       [[[ 60,  61,  62,  63,  64],\n",
       "         [ 65,  66,  67,  68,  69],\n",
       "         [ 70,  71,  72,  73,  74],\n",
       "         [ 75,  76,  77,  78,  79]],\n",
       "\n",
       "        [[ 80,  81,  82,  83,  84],\n",
       "         [ 85,  86,  87,  88,  89],\n",
       "         [ 90,  91,  92,  93,  94],\n",
       "         [ 95,  96,  97,  98,  99]],\n",
       "\n",
       "        [[100, 101, 102, 103, 104],\n",
       "         [105, 106, 107, 108, 109],\n",
       "         [110, 111, 112, 113, 114],\n",
       "         [115, 116, 117, 118, 119]]]])"
      ]
     },
     "execution_count": 11,
     "metadata": {},
     "output_type": "execute_result"
    }
   ],
   "source": [
    "b = np.arange(120).reshape(2,3,4,5)\n",
    "b"
   ]
  },
  {
   "cell_type": "code",
   "execution_count": 12,
   "metadata": {
    "scrolled": true
   },
   "outputs": [
    {
     "data": {
      "text/plain": [
       "(5, 4, 3, 2)"
      ]
     },
     "execution_count": 12,
     "metadata": {},
     "output_type": "execute_result"
    }
   ],
   "source": [
    "b.T.shape"
   ]
  },
  {
   "cell_type": "code",
   "execution_count": 13,
   "metadata": {
    "scrolled": true
   },
   "outputs": [
    {
     "data": {
      "text/plain": [
       "array([[[[  0,  60],\n",
       "         [ 20,  80],\n",
       "         [ 40, 100]],\n",
       "\n",
       "        [[  5,  65],\n",
       "         [ 25,  85],\n",
       "         [ 45, 105]],\n",
       "\n",
       "        [[ 10,  70],\n",
       "         [ 30,  90],\n",
       "         [ 50, 110]],\n",
       "\n",
       "        [[ 15,  75],\n",
       "         [ 35,  95],\n",
       "         [ 55, 115]]],\n",
       "\n",
       "\n",
       "       [[[  1,  61],\n",
       "         [ 21,  81],\n",
       "         [ 41, 101]],\n",
       "\n",
       "        [[  6,  66],\n",
       "         [ 26,  86],\n",
       "         [ 46, 106]],\n",
       "\n",
       "        [[ 11,  71],\n",
       "         [ 31,  91],\n",
       "         [ 51, 111]],\n",
       "\n",
       "        [[ 16,  76],\n",
       "         [ 36,  96],\n",
       "         [ 56, 116]]],\n",
       "\n",
       "\n",
       "       [[[  2,  62],\n",
       "         [ 22,  82],\n",
       "         [ 42, 102]],\n",
       "\n",
       "        [[  7,  67],\n",
       "         [ 27,  87],\n",
       "         [ 47, 107]],\n",
       "\n",
       "        [[ 12,  72],\n",
       "         [ 32,  92],\n",
       "         [ 52, 112]],\n",
       "\n",
       "        [[ 17,  77],\n",
       "         [ 37,  97],\n",
       "         [ 57, 117]]],\n",
       "\n",
       "\n",
       "       [[[  3,  63],\n",
       "         [ 23,  83],\n",
       "         [ 43, 103]],\n",
       "\n",
       "        [[  8,  68],\n",
       "         [ 28,  88],\n",
       "         [ 48, 108]],\n",
       "\n",
       "        [[ 13,  73],\n",
       "         [ 33,  93],\n",
       "         [ 53, 113]],\n",
       "\n",
       "        [[ 18,  78],\n",
       "         [ 38,  98],\n",
       "         [ 58, 118]]],\n",
       "\n",
       "\n",
       "       [[[  4,  64],\n",
       "         [ 24,  84],\n",
       "         [ 44, 104]],\n",
       "\n",
       "        [[  9,  69],\n",
       "         [ 29,  89],\n",
       "         [ 49, 109]],\n",
       "\n",
       "        [[ 14,  74],\n",
       "         [ 34,  94],\n",
       "         [ 54, 114]],\n",
       "\n",
       "        [[ 19,  79],\n",
       "         [ 39,  99],\n",
       "         [ 59, 119]]]])"
      ]
     },
     "execution_count": 13,
     "metadata": {},
     "output_type": "execute_result"
    }
   ],
   "source": [
    "b.T"
   ]
  },
  {
   "cell_type": "code",
   "execution_count": null,
   "metadata": {
    "collapsed": true
   },
   "outputs": [],
   "source": []
  }
 ],
 "metadata": {
  "kernelspec": {
   "display_name": "Python 3",
   "language": "python",
   "name": "python3"
  },
  "language_info": {
   "codemirror_mode": {
    "name": "ipython",
    "version": 3
   },
   "file_extension": ".py",
   "mimetype": "text/x-python",
   "name": "python",
   "nbconvert_exporter": "python",
   "pygments_lexer": "ipython3",
   "version": "3.6.1"
  }
 },
 "nbformat": 4,
 "nbformat_minor": 2
}
