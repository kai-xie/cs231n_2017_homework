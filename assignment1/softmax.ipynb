{
 "cells": [
  {
   "cell_type": "markdown",
   "metadata": {},
   "source": [
    "# Softmax exercise\n",
    "\n",
    "*Complete and hand in this completed worksheet (including its outputs and any supporting code outside of the worksheet) with your assignment submission. For more details see the [assignments page](http://vision.stanford.edu/teaching/cs231n/assignments.html) on the course website.*\n",
    "\n",
    "This exercise is analogous to the SVM exercise. You will:\n",
    "\n",
    "- implement a fully-vectorized **loss function** for the Softmax classifier\n",
    "- implement the fully-vectorized expression for its **analytic gradient**\n",
    "- **check your implementation** with numerical gradient\n",
    "- use a validation set to **tune the learning rate and regularization** strength\n",
    "- **optimize** the loss function with **SGD**\n",
    "- **visualize** the final learned weights\n"
   ]
  },
  {
   "cell_type": "code",
   "execution_count": 8,
   "metadata": {},
   "outputs": [
    {
     "name": "stdout",
     "output_type": "stream",
     "text": [
      "The autoreload extension is already loaded. To reload it, use:\n",
      "  %reload_ext autoreload\n"
     ]
    }
   ],
   "source": [
    "import random\n",
    "import numpy as np\n",
    "from cs231n.data_utils import load_CIFAR10\n",
    "import matplotlib.pyplot as plt\n",
    "\n",
    "from __future__ import print_function\n",
    "\n",
    "%matplotlib inline\n",
    "plt.rcParams['figure.figsize'] = (10.0, 8.0) # set default size of plots\n",
    "plt.rcParams['image.interpolation'] = 'nearest'\n",
    "plt.rcParams['image.cmap'] = 'gray'\n",
    "\n",
    "# for auto-reloading extenrnal modules\n",
    "# see http://stackoverflow.com/questions/1907993/autoreload-of-modules-in-ipython\n",
    "%load_ext autoreload\n",
    "%autoreload 2"
   ]
  },
  {
   "cell_type": "code",
   "execution_count": 4,
   "metadata": {},
   "outputs": [
    {
     "name": "stdout",
     "output_type": "stream",
     "text": [
      "Train data shape:  (49000, 3073)\n",
      "Train labels shape:  (49000,)\n",
      "Validation data shape:  (1000, 3073)\n",
      "Validation labels shape:  (1000,)\n",
      "Test data shape:  (1000, 3073)\n",
      "Test labels shape:  (1000,)\n",
      "dev data shape:  (500, 3073)\n",
      "dev labels shape:  (500,)\n"
     ]
    }
   ],
   "source": [
    "def get_CIFAR10_data(num_training=49000, num_validation=1000, num_test=1000, num_dev=500):\n",
    "    \"\"\"\n",
    "    Load the CIFAR-10 dataset from disk and perform preprocessing to prepare\n",
    "    it for the linear classifier. These are the same steps as we used for the\n",
    "    SVM, but condensed to a single function.  \n",
    "    \"\"\"\n",
    "    # Load the raw CIFAR-10 data\n",
    "    cifar10_dir = 'cs231n/datasets/cifar-10-batches-py'\n",
    "    X_train, y_train, X_test, y_test = load_CIFAR10(cifar10_dir)\n",
    "    \n",
    "    # subsample the data\n",
    "    mask = list(range(num_training, num_training + num_validation))\n",
    "    X_val = X_train[mask]\n",
    "    y_val = y_train[mask]\n",
    "    mask = list(range(num_training))\n",
    "    X_train = X_train[mask]\n",
    "    y_train = y_train[mask]\n",
    "    mask = list(range(num_test))\n",
    "    X_test = X_test[mask]\n",
    "    y_test = y_test[mask]\n",
    "    mask = np.random.choice(num_training, num_dev, replace=False)\n",
    "    X_dev = X_train[mask]\n",
    "    y_dev = y_train[mask]\n",
    "    \n",
    "    # Preprocessing: reshape the image data into rows\n",
    "    X_train = np.reshape(X_train, (X_train.shape[0], -1))\n",
    "    X_val = np.reshape(X_val, (X_val.shape[0], -1))\n",
    "    X_test = np.reshape(X_test, (X_test.shape[0], -1))\n",
    "    X_dev = np.reshape(X_dev, (X_dev.shape[0], -1))\n",
    "    \n",
    "    # Normalize the data: subtract the mean image\n",
    "    mean_image = np.mean(X_train, axis = 0)\n",
    "    X_train -= mean_image\n",
    "    X_val -= mean_image\n",
    "    X_test -= mean_image\n",
    "    X_dev -= mean_image\n",
    "    \n",
    "    # add bias dimension and transform into columns\n",
    "    X_train = np.hstack([X_train, np.ones((X_train.shape[0], 1))])\n",
    "    X_val = np.hstack([X_val, np.ones((X_val.shape[0], 1))])\n",
    "    X_test = np.hstack([X_test, np.ones((X_test.shape[0], 1))])\n",
    "    X_dev = np.hstack([X_dev, np.ones((X_dev.shape[0], 1))])\n",
    "    \n",
    "    return X_train, y_train, X_val, y_val, X_test, y_test, X_dev, y_dev\n",
    "\n",
    "\n",
    "# Invoke the above function to get our data.\n",
    "X_train, y_train, X_val, y_val, X_test, y_test, X_dev, y_dev = get_CIFAR10_data()\n",
    "print('Train data shape: ', X_train.shape)\n",
    "print('Train labels shape: ', y_train.shape)\n",
    "print('Validation data shape: ', X_val.shape)\n",
    "print('Validation labels shape: ', y_val.shape)\n",
    "print('Test data shape: ', X_test.shape)\n",
    "print('Test labels shape: ', y_test.shape)\n",
    "print('dev data shape: ', X_dev.shape)\n",
    "print('dev labels shape: ', y_dev.shape)"
   ]
  },
  {
   "cell_type": "markdown",
   "metadata": {},
   "source": [
    "## Softmax Classifier\n",
    "\n",
    "Your code for this section will all be written inside **cs231n/classifiers/softmax.py**. \n"
   ]
  },
  {
   "cell_type": "code",
   "execution_count": 5,
   "metadata": {
    "scrolled": true
   },
   "outputs": [
    {
     "name": "stdout",
     "output_type": "stream",
     "text": [
      "loss: 2.345723\n",
      "sanity check: 2.302585\n"
     ]
    }
   ],
   "source": [
    "# First implement the naive softmax loss function with nested loops.\n",
    "# Open the file cs231n/classifiers/softmax.py and implement the\n",
    "# softmax_loss_naive function.\n",
    "\n",
    "from cs231n.classifiers.softmax import softmax_loss_naive\n",
    "import time\n",
    "\n",
    "# Generate a random softmax weight matrix and use it to compute the loss.\n",
    "W = np.random.randn(3073, 10) * 0.0001\n",
    "loss, grad = softmax_loss_naive(W, X_dev, y_dev, 0.0)\n",
    "\n",
    "# As a rough sanity check, our loss should be something close to -log(0.1).\n",
    "print('loss: %f' % loss)\n",
    "print('sanity check: %f' % (-np.log(0.1)))"
   ]
  },
  {
   "cell_type": "markdown",
   "metadata": {},
   "source": [
    "## Inline Question 1:\n",
    "Why do we expect our loss to be close to -log(0.1)? Explain briefly.**\n",
    "\n",
    "**Your answer:** *loss = sum_over_num_train(-log(cross_entropy_loss))/num_train. For small value initialized weights, all the cross_entropy_loss would approximate to 1/num_class, so the loss = num_train* (-log(1/num_class))/ num_train = -log(1/num_class) = -log(0.1)*\n"
   ]
  },
  {
   "cell_type": "code",
   "execution_count": 6,
   "metadata": {},
   "outputs": [
    {
     "name": "stdout",
     "output_type": "stream",
     "text": [
      "numerical: 0.016547 analytic: 0.016547, relative error: 3.294571e-06\n",
      "numerical: 1.061383 analytic: 1.061383, relative error: 6.096111e-08\n",
      "numerical: 1.369843 analytic: 1.369842, relative error: 3.571726e-08\n",
      "numerical: -3.515071 analytic: -3.515071, relative error: 1.323916e-08\n",
      "numerical: -1.654916 analytic: -1.654917, relative error: 3.752992e-08\n",
      "numerical: -1.035607 analytic: -1.035607, relative error: 1.813372e-08\n",
      "numerical: -0.097937 analytic: -0.097937, relative error: 6.676529e-07\n",
      "numerical: -0.679875 analytic: -0.679875, relative error: 5.754631e-08\n",
      "numerical: -5.737667 analytic: -5.737668, relative error: 5.383898e-09\n",
      "numerical: -0.141788 analytic: -0.141788, relative error: 3.377151e-07\n",
      "numerical: -0.491647 analytic: -0.491648, relative error: 5.098223e-08\n",
      "numerical: -0.405630 analytic: -0.405630, relative error: 7.276598e-08\n",
      "numerical: -0.819826 analytic: -0.819826, relative error: 1.133688e-07\n",
      "numerical: 1.008884 analytic: 1.008884, relative error: 6.791963e-08\n",
      "numerical: -0.121116 analytic: -0.121116, relative error: 4.187776e-07\n",
      "numerical: -1.995708 analytic: -1.995708, relative error: 4.120659e-09\n",
      "numerical: 2.092168 analytic: 2.092168, relative error: 3.198280e-08\n",
      "numerical: -0.908876 analytic: -0.908876, relative error: 4.845556e-08\n",
      "numerical: 0.313562 analytic: 0.313562, relative error: 9.548362e-08\n",
      "numerical: 2.155657 analytic: 2.155657, relative error: 2.415478e-08\n"
     ]
    }
   ],
   "source": [
    "# Complete the implementation of softmax_loss_naive and implement a (naive)\n",
    "# version of the gradient that uses nested loops.\n",
    "loss, grad = softmax_loss_naive(W, X_dev, y_dev, 0.0)\n",
    "\n",
    "# As we did for the SVM, use numeric gradient checking as a debugging tool.\n",
    "# The numeric gradient should be close to the analytic gradient.\n",
    "from cs231n.gradient_check import grad_check_sparse\n",
    "f = lambda w: softmax_loss_naive(w, X_dev, y_dev, 0.0)[0]\n",
    "grad_numerical = grad_check_sparse(f, W, grad, 10)\n",
    "\n",
    "# similar to SVM case, do another gradient check with regularization\n",
    "loss, grad = softmax_loss_naive(W, X_dev, y_dev, 5e1)\n",
    "f = lambda w: softmax_loss_naive(w, X_dev, y_dev, 5e1)[0]\n",
    "grad_numerical = grad_check_sparse(f, W, grad, 10)"
   ]
  },
  {
   "cell_type": "code",
   "execution_count": 7,
   "metadata": {},
   "outputs": [
    {
     "name": "stdout",
     "output_type": "stream",
     "text": [
      "naive loss: 2.345723e+00 computed in 0.015628s\n",
      "vectorized loss: 2.345723e+00 computed in 0.019631s\n",
      "Loss difference: 0.000000\n",
      "Gradient difference: 0.000000\n"
     ]
    }
   ],
   "source": [
    "# Now that we have a naive implementation of the softmax loss function and its gradient,\n",
    "# implement a vectorized version in softmax_loss_vectorized.\n",
    "# The two versions should compute the same results, but the vectorized version should be\n",
    "# much faster.\n",
    "tic = time.time()\n",
    "loss_naive, grad_naive = softmax_loss_naive(W, X_dev, y_dev, 0.000005)\n",
    "toc = time.time()\n",
    "print('naive loss: %e computed in %fs' % (loss_naive, toc - tic))\n",
    "\n",
    "from cs231n.classifiers.softmax import softmax_loss_vectorized\n",
    "tic = time.time()\n",
    "loss_vectorized, grad_vectorized = softmax_loss_vectorized(W, X_dev, y_dev, 0.000005)\n",
    "toc = time.time()\n",
    "print('vectorized loss: %e computed in %fs' % (loss_vectorized, toc - tic))\n",
    "\n",
    "# As we did for the SVM, we use the Frobenius norm to compare the two versions\n",
    "# of the gradient.\n",
    "grad_difference = np.linalg.norm(grad_naive - grad_vectorized, ord='fro')\n",
    "print('Loss difference: %f' % np.abs(loss_naive - loss_vectorized))\n",
    "print('Gradient difference: %f' % grad_difference)"
   ]
  },
  {
   "cell_type": "code",
   "execution_count": 12,
   "metadata": {
    "scrolled": true
   },
   "outputs": [
    {
     "name": "stdout",
     "output_type": "stream",
     "text": [
      "iter: 0: lr = 3.7376798241762634e-07, reg = 32477.065795286107\n",
      "iteration 0 / 800: loss 499.424139\n",
      "iteration 200 / 800: loss 5.710454\n",
      "iteration 400 / 800: loss 2.057594\n",
      "iteration 600 / 800: loss 2.052943\n",
      "iter: 1: lr = 4.106051344202953e-07, reg = 37108.72386263701\n",
      "iteration 0 / 800: loss 578.486791\n",
      "iteration 200 / 800: loss 3.235098\n",
      "iteration 400 / 800: loss 2.079470\n",
      "iteration 600 / 800: loss 2.090947\n",
      "iter: 2: lr = 4.168553181192097e-07, reg = 38626.97045459289\n",
      "iteration 0 / 800: loss 609.929710\n",
      "iteration 200 / 800: loss 3.007673\n",
      "iteration 400 / 800: loss 2.086019\n",
      "iteration 600 / 800: loss 2.089702\n",
      "iter: 3: lr = 3.470445199113956e-07, reg = 36507.867973032284\n",
      "iteration 0 / 800: loss 567.602256\n",
      "iteration 200 / 800: loss 5.363103\n",
      "iteration 400 / 800: loss 2.032911\n",
      "iteration 600 / 800: loss 1.976655\n",
      "iter: 4: lr = 4.293035754459387e-07, reg = 37824.667279709356\n",
      "iteration 0 / 800: loss 583.536580\n",
      "iteration 200 / 800: loss 2.947038\n",
      "iteration 400 / 800: loss 2.115396\n",
      "iteration 600 / 800: loss 2.058396\n",
      "iter: 5: lr = 2.677031346931538e-07, reg = 26342.10335808003\n",
      "iteration 0 / 800: loss 406.717206\n",
      "iteration 200 / 800: loss 25.372502\n",
      "iteration 400 / 800: loss 3.395713\n",
      "iteration 600 / 800: loss 2.061194\n",
      "iter: 6: lr = 1.664591329893905e-07, reg = 25160.411082411687\n",
      "iteration 0 / 800: loss 392.634621\n",
      "iteration 200 / 800: loss 74.090223\n",
      "iteration 400 / 800: loss 15.334025\n",
      "iteration 600 / 800: loss 4.491781\n",
      "iter: 7: lr = 2.3403841880184586e-07, reg = 27561.927191727023\n",
      "iteration 0 / 800: loss 431.231919\n",
      "iteration 200 / 800: loss 33.678603\n",
      "iteration 400 / 800: loss 4.348491\n",
      "iteration 600 / 800: loss 2.210721\n",
      "iter: 8: lr = 4.770738807278357e-07, reg = 29113.49530848812\n",
      "iteration 0 / 800: loss 455.525961\n",
      "iteration 200 / 800: loss 3.634245\n",
      "iteration 400 / 800: loss 2.002077\n",
      "iteration 600 / 800: loss 2.107739\n",
      "iter: 9: lr = 3.653182119665641e-07, reg = 45090.994983738114\n",
      "iteration 0 / 800: loss 693.305072\n",
      "iteration 200 / 800: loss 3.004336\n",
      "iteration 400 / 800: loss 2.041055\n",
      "iteration 600 / 800: loss 2.036817\n",
      "iter: 10: lr = 2.8806175072781554e-07, reg = 49930.17724013401\n",
      "iteration 0 / 800: loss 769.124048\n",
      "iteration 200 / 800: loss 4.403341\n",
      "iteration 400 / 800: loss 2.045976\n",
      "iteration 600 / 800: loss 2.086807\n",
      "iter: 11: lr = 1.9709275087708975e-07, reg = 38749.80370741363\n",
      "iteration 0 / 800: loss 599.251422\n",
      "iteration 200 / 800: loss 29.559907\n",
      "iteration 400 / 800: loss 3.345292\n",
      "iteration 600 / 800: loss 2.146839\n",
      "iter: 12: lr = 3.261183076313327e-07, reg = 31656.24441048781\n",
      "iteration 0 / 800: loss 486.608283\n",
      "iteration 200 / 800: loss 9.580344\n",
      "iteration 400 / 800: loss 2.115875\n",
      "iteration 600 / 800: loss 1.980247\n",
      "iter: 13: lr = 2.0780782763894073e-07, reg = 28137.50144897338\n",
      "iteration 0 / 800: loss 440.144666\n",
      "iteration 200 / 800: loss 43.451999\n",
      "iteration 400 / 800: loss 6.003055\n",
      "iteration 600 / 800: loss 2.445531\n",
      "iter: 14: lr = 2.7855092754118115e-07, reg = 40182.78654706305\n",
      "iteration 0 / 800: loss 630.073467\n",
      "iteration 200 / 800: loss 8.923440\n",
      "iteration 400 / 800: loss 2.034548\n",
      "iteration 600 / 800: loss 2.055189\n",
      "iter: 15: lr = 2.3022771128542522e-07, reg = 41677.74242414176\n",
      "iteration 0 / 800: loss 644.714859\n",
      "iteration 200 / 800: loss 15.472114\n",
      "iteration 400 / 800: loss 2.354822\n",
      "iteration 600 / 800: loss 2.048460\n",
      "iter: 16: lr = 3.360422537539236e-07, reg = 44817.885369439304\n",
      "iteration 0 / 800: loss 701.368018\n",
      "iteration 200 / 800: loss 3.629635\n",
      "iteration 400 / 800: loss 2.098612\n",
      "iteration 600 / 800: loss 2.051540\n",
      "iter: 17: lr = 4.1467379969749035e-07, reg = 28427.30731294121\n",
      "iteration 0 / 800: loss 432.612788\n",
      "iteration 200 / 800: loss 5.701211\n",
      "iteration 400 / 800: loss 2.103878\n",
      "iteration 600 / 800: loss 2.103706\n",
      "iter: 18: lr = 2.2796722633877717e-07, reg = 32508.10067154493\n",
      "iteration 0 / 800: loss 508.277691\n",
      "iteration 200 / 800: loss 27.457514\n",
      "iteration 400 / 800: loss 3.366869\n",
      "iteration 600 / 800: loss 2.040336\n",
      "iter: 19: lr = 1.8776433776233944e-07, reg = 45034.229778794994\n",
      "iteration 0 / 800: loss 702.053832\n",
      "iteration 200 / 800: loss 25.291184\n",
      "iteration 400 / 800: loss 2.816413\n",
      "iteration 600 / 800: loss 2.105614\n",
      "lr 1.664591e-07 reg 2.516041e+04 train accuracy: 0.347122 val accuracy: 0.358000\n",
      "lr 1.877643e-07 reg 4.503423e+04 train accuracy: 0.332490 val accuracy: 0.343000\n",
      "lr 1.970928e-07 reg 3.874980e+04 train accuracy: 0.335510 val accuracy: 0.345000\n",
      "lr 2.078078e-07 reg 2.813750e+04 train accuracy: 0.344633 val accuracy: 0.368000\n",
      "lr 2.279672e-07 reg 3.250810e+04 train accuracy: 0.342980 val accuracy: 0.352000\n",
      "lr 2.302277e-07 reg 4.167774e+04 train accuracy: 0.338633 val accuracy: 0.349000\n",
      "lr 2.340384e-07 reg 2.756193e+04 train accuracy: 0.348041 val accuracy: 0.364000\n",
      "lr 2.677031e-07 reg 2.634210e+04 train accuracy: 0.350306 val accuracy: 0.373000\n",
      "lr 2.785509e-07 reg 4.018279e+04 train accuracy: 0.341776 val accuracy: 0.355000\n",
      "lr 2.880618e-07 reg 4.993018e+04 train accuracy: 0.328102 val accuracy: 0.349000\n",
      "lr 3.261183e-07 reg 3.165624e+04 train accuracy: 0.344122 val accuracy: 0.365000\n",
      "lr 3.360423e-07 reg 4.481789e+04 train accuracy: 0.331224 val accuracy: 0.351000\n",
      "lr 3.470445e-07 reg 3.650787e+04 train accuracy: 0.334265 val accuracy: 0.346000\n",
      "lr 3.653182e-07 reg 4.509099e+04 train accuracy: 0.331122 val accuracy: 0.343000\n",
      "lr 3.737680e-07 reg 3.247707e+04 train accuracy: 0.343735 val accuracy: 0.365000\n",
      "lr 4.106051e-07 reg 3.710872e+04 train accuracy: 0.338714 val accuracy: 0.346000\n",
      "lr 4.146738e-07 reg 2.842731e+04 train accuracy: 0.338367 val accuracy: 0.351000\n",
      "lr 4.168553e-07 reg 3.862697e+04 train accuracy: 0.331041 val accuracy: 0.345000\n",
      "lr 4.293036e-07 reg 3.782467e+04 train accuracy: 0.332367 val accuracy: 0.341000\n",
      "lr 4.770739e-07 reg 2.911350e+04 train accuracy: 0.339531 val accuracy: 0.355000\n",
      "best validation accuracy achieved during cross-validation: 0.373000\n"
     ]
    }
   ],
   "source": [
    "# Use the validation set to tune hyperparameters (regularization strength and\n",
    "# learning rate). You should experiment with different ranges for the learning\n",
    "# rates and regularization strengths; if you are careful you should be able to\n",
    "# get a classification accuracy of over 0.35 on the validation set.\n",
    "from cs231n.classifiers import Softmax\n",
    "results = {}\n",
    "best_val = -1\n",
    "best_softmax = None\n",
    "learning_rates = [1e-7, 5e-7]\n",
    "regularization_strengths = [2.5e4, 5e4]\n",
    "\n",
    "################################################################################\n",
    "# TODO:                                                                        #\n",
    "# Use the validation set to set the learning rate and regularization strength. #\n",
    "# This should be identical to the validation that you did for the SVM; save    #\n",
    "# the best trained softmax classifer in best_softmax.                          #\n",
    "################################################################################\n",
    "import math\n",
    "max_count = 20\n",
    "for count in range(max_count):\n",
    "    \n",
    "    lr = np.random.uniform(learning_rates[0], learning_rates[1])\n",
    "    reg = np.random.uniform(regularization_strengths[0], regularization_strengths[1])\n",
    "    print(\"iter: {}: lr = {}, reg = {}\".format(count, lr, reg))\n",
    "    softmax = Softmax()\n",
    "\n",
    "    loss_history = softmax.train(X_train, y_train, learning_rate=lr, reg=reg, num_iters=800, verbose=True)\n",
    "    y_train_pred = softmax.predict(X_train)\n",
    "    train_accuracy = np.mean(y_train_pred == y_train)\n",
    "    y_val_pred = softmax.predict(X_val)\n",
    "    val_accuracy = np.mean(y_val == y_val_pred)\n",
    "    \n",
    "    if val_accuracy > best_val:\n",
    "        best_val = val_accuracy\n",
    "        best_softmax = softmax\n",
    "    results[(lr,reg)] = (train_accuracy, val_accuracy)\n",
    "\n",
    "# pass\n",
    "################################################################################\n",
    "#                              END OF YOUR CODE                                #\n",
    "################################################################################\n",
    "    \n",
    "# Print out results.\n",
    "for lr, reg in sorted(results):\n",
    "    train_accuracy, val_accuracy = results[(lr, reg)]\n",
    "    print('lr %e reg %e train accuracy: %f val accuracy: %f' % (\n",
    "                lr, reg, train_accuracy, val_accuracy))\n",
    "    \n",
    "print('best validation accuracy achieved during cross-validation: %f' % best_val)"
   ]
  },
  {
   "cell_type": "code",
   "execution_count": 14,
   "metadata": {},
   "outputs": [
    {
     "name": "stdout",
     "output_type": "stream",
     "text": [
      "softmax on raw pixels final test set accuracy: 0.358000\n"
     ]
    }
   ],
   "source": [
    "# evaluate on test set\n",
    "# Evaluate the best softmax on test set\n",
    "best_softmax = best_svm\n",
    "y_test_pred = best_softmax.predict(X_test)\n",
    "test_accuracy = np.mean(y_test == y_test_pred)\n",
    "print('softmax on raw pixels final test set accuracy: %f' % (test_accuracy, ))"
   ]
  },
  {
   "cell_type": "code",
   "execution_count": 15,
   "metadata": {},
   "outputs": [
    {
     "data": {
      "image/png": "[encoded data removed]",
      "text/plain": [
       "<matplotlib.figure.Figure at 0x27524e8c390>"
      ]
     },
     "metadata": {},
     "output_type": "display_data"
    }
   ],
   "source": [
    "# Visualize the learned weights for each class\n",
    "w = best_softmax.W[:-1,:] # strip out the bias\n",
    "w = w.reshape(32, 32, 3, 10)\n",
    "\n",
    "w_min, w_max = np.min(w), np.max(w)\n",
    "\n",
    "classes = ['plane', 'car', 'bird', 'cat', 'deer', 'dog', 'frog', 'horse', 'ship', 'truck']\n",
    "for i in range(10):\n",
    "    plt.subplot(2, 5, i + 1)\n",
    "    \n",
    "    # Rescale the weights to be between 0 and 255\n",
    "    wimg = 255.0 * (w[:, :, :, i].squeeze() - w_min) / (w_max - w_min)\n",
    "    plt.imshow(wimg.astype('uint8'))\n",
    "    plt.axis('off')\n",
    "    plt.title(classes[i])"
   ]
  }
 ],
 "metadata": {
  "kernelspec": {
   "display_name": "Python 3",
   "language": "python",
   "name": "python3"
  },
  "language_info": {
   "codemirror_mode": {
    "name": "ipython",
    "version": 3
   },
   "file_extension": ".py",
   "mimetype": "text/x-python",
   "name": "python",
   "nbconvert_exporter": "python",
   "pygments_lexer": "ipython3",
   "version": "3.6.1"
  }
 },
 "nbformat": 4,
 "nbformat_minor": 1
}
